{
 "cells": [
  {
   "cell_type": "code",
   "execution_count": 3,
   "metadata": {
    "dotnet_interactive": {
     "language": "fsharp"
    },
    "polyglot_notebook": {
     "language": "fsharp"
    },
    "vscode": {
     "languageId": "dotnet-interactive.fsharp"
    }
   },
   "outputs": [
    {
     "name": "stdout",
     "output_type": "stream",
     "text": [
      "Total elves: 238\n",
      "Max calories: 69626\n",
      "Total calories of top 3: 206780\n"
     ]
    }
   ],
   "source": [
    "(*\n",
    "    * goal1: find the highest amount of calories any elf carrying\n",
    "    * Input: stream of numbers, separated by empty line\n",
    "        * each group -> 1 elf's inventory\n",
    "    \n",
    "    * Options:\n",
    "        * 1: linear parse - O(n), n\n",
    "            * first pass - add up and store in list\n",
    "            * second pass - find the one with most calories\n",
    "*)\n",
    "\n",
    "open System\n",
    "open System.IO\n",
    "\n",
    "let filePath = Directory.GetCurrentDirectory() + \"/Resources/aoc_input_day1.txt\"\n",
    "let allLines = File.ReadLines(filePath)\n",
    "\n",
    "let tryParseInt s = \n",
    "    try \n",
    "        s |> int |> Some\n",
    "    with :? FormatException -> \n",
    "        None\n",
    "\n",
    "let mutable currentTotalCalories = 0\n",
    "\n",
    "let allInventories = \n",
    "    allLines\n",
    "    |> Seq.map (fun line ->\n",
    "        match (tryParseInt line) with \n",
    "        | Some x -> \n",
    "            currentTotalCalories <- currentTotalCalories + x\n",
    "            None\n",
    "        | _ -> \n",
    "            let toEmit = currentTotalCalories\n",
    "            currentTotalCalories <- 0\n",
    "            Some toEmit)\n",
    "    |> Seq.filter (fun optionCalories ->\n",
    "        match optionCalories with  \n",
    "        | Some _ -> true \n",
    "        | _ -> false)\n",
    "    |> Seq.map (fun optionCalories ->\n",
    "        match optionCalories with \n",
    "        | Some x -> x\n",
    "        | _ -> 0)\n",
    "    |> Seq.toList\n",
    "\n",
    "printfn \"Total elves: %A\" (Seq.length allInventories)\n",
    "\n",
    "// 69626 -> correct\n",
    "printfn \"Max calories: %A\" (Seq.max allInventories)\n",
    "\n",
    "(*\n",
    "    Part 2: Find the totals of the top 3 elves\n",
    "\n",
    "    Options\n",
    "    * 1 - Order allInventories and take top 3, then add - O(nlogn), 1\n",
    "*)\n",
    "\n",
    "printfn \"Total calories of top 3: %A\" (allInventories\n",
    "    |> Seq.sortDescending\n",
    "    |> Seq.take 3\n",
    "    |> Seq.sum)"
   ]
  }
 ],
 "metadata": {
  "kernelspec": {
   "display_name": ".NET (F#)",
   "language": "F#",
   "name": ".net-fsharp"
  },
  "language_info": {
   "name": "F#"
  }
 },
 "nbformat": 4,
 "nbformat_minor": 2
}
